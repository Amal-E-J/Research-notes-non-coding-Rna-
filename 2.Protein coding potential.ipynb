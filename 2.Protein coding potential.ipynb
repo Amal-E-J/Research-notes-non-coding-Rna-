{
 "cells": [
  {
   "cell_type": "code",
   "execution_count": 1,
   "id": "a9779221",
   "metadata": {},
   "outputs": [],
   "source": [
    "\n",
    "from Bio.SeqUtils.ProtParam import ProteinAnalysis"
   ]
  },
  {
   "cell_type": "code",
   "execution_count": 3,
   "id": "c7d9d4aa",
   "metadata": {},
   "outputs": [],
   "source": [
    "my_seq = (\n",
    "    \"GTTAACTTGCCGTCAGCCTTTTCTTTGACCTCTTCTTTCTGTTCATGTGTATTTGCTGTCTCTTAGCCCAGACTTCCCGTGTCCTTTCCACCGGGCCTTTGAGAGGTCACAGGGTCTTGA\"\n",
    "\"TGCTGTGGTCTTCATCTGCAGGTGTCTGACTTCCAGCAACTGCTGGCCTGTGCCAGGGTGCAAGCTGAGCACTGGAGTGGAGTTTTCCTGTGGAGAGGAGCCATGCCTAGAGTGGGATGG\"\n",
    "\"GCCATTGTTCATCTTCTGGCCCCTGTTGTCTGCATGTAACTTAATACCACAACCAGGCATAGGGGAAAGATTGGAGGAAAGATGAGTGAGAGCATCAACTTCTCTCACAACCTAGGCCAG\"\n",
    ")"
   ]
  },
  {
   "cell_type": "code",
   "execution_count": 4,
   "id": "79fe0cae",
   "metadata": {},
   "outputs": [],
   "source": [
    "analysed_seq = ProteinAnalysis(my_seq)"
   ]
  },
  {
   "cell_type": "code",
   "execution_count": 5,
   "id": "35f8f677",
   "metadata": {},
   "outputs": [
    {
     "data": {
      "text/plain": [
       "30296.046699999966"
      ]
     },
     "execution_count": 5,
     "metadata": {},
     "output_type": "execute_result"
    }
   ],
   "source": [
    "analysed_seq.molecular_weight()"
   ]
  },
  {
   "cell_type": "code",
   "execution_count": 6,
   "id": "338951d3",
   "metadata": {},
   "outputs": [
    {
     "data": {
      "text/plain": [
       "0.6502777777777784"
      ]
     },
     "execution_count": 6,
     "metadata": {},
     "output_type": "execute_result"
    }
   ],
   "source": [
    "analysed_seq.gravy()"
   ]
  },
  {
   "cell_type": "code",
   "execution_count": 7,
   "id": "82b64746",
   "metadata": {},
   "outputs": [
    {
     "data": {
      "text/plain": [
       "{'A': 69,\n",
       " 'C': 89,\n",
       " 'D': 0,\n",
       " 'E': 0,\n",
       " 'F': 0,\n",
       " 'G': 96,\n",
       " 'H': 0,\n",
       " 'I': 0,\n",
       " 'K': 0,\n",
       " 'L': 0,\n",
       " 'M': 0,\n",
       " 'N': 0,\n",
       " 'P': 0,\n",
       " 'Q': 0,\n",
       " 'R': 0,\n",
       " 'S': 0,\n",
       " 'T': 106,\n",
       " 'V': 0,\n",
       " 'W': 0,\n",
       " 'Y': 0}"
      ]
     },
     "execution_count": 7,
     "metadata": {},
     "output_type": "execute_result"
    }
   ],
   "source": [
    "analysed_seq.count_amino_acids()"
   ]
  },
  {
   "cell_type": "code",
   "execution_count": null,
   "id": "e70cc10e",
   "metadata": {},
   "outputs": [],
   "source": []
  }
 ],
 "metadata": {
  "kernelspec": {
   "display_name": "Python 3 (ipykernel)",
   "language": "python",
   "name": "python3"
  },
  "language_info": {
   "codemirror_mode": {
    "name": "ipython",
    "version": 3
   },
   "file_extension": ".py",
   "mimetype": "text/x-python",
   "name": "python",
   "nbconvert_exporter": "python",
   "pygments_lexer": "ipython3",
   "version": "3.9.13"
  }
 },
 "nbformat": 4,
 "nbformat_minor": 5
}
