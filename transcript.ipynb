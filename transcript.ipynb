{
 "cells": [
  {
   "cell_type": "markdown",
   "id": "38388884",
   "metadata": {},
   "source": [
    "## Transcript length of sequence"
   ]
  },
  {
   "cell_type": "code",
   "execution_count": 1,
   "id": "153839d2",
   "metadata": {},
   "outputs": [
    {
     "name": "stdout",
     "output_type": "stream",
     "text": [
      "Transcript length: 39\n"
     ]
    }
   ],
   "source": [
    "from Bio.Seq import Seq\n",
    "dna_seq = Seq(\"ATGGCCATTGTAATGGGCCGCTGAAAGGGTGCCCGATAG\")\n",
    "rna_seq = dna_seq.transcribe()\n",
    "\n",
    "transcript_length = len(rna_seq)\n",
    "print(\"Transcript length:\", transcript_length)\n"
   ]
  },
  {
   "cell_type": "code",
   "execution_count": null,
   "id": "e6bda99b",
   "metadata": {},
   "outputs": [],
   "source": []
  }
 ],
 "metadata": {
  "kernelspec": {
   "display_name": "Python 3 (ipykernel)",
   "language": "python",
   "name": "python3"
  },
  "language_info": {
   "codemirror_mode": {
    "name": "ipython",
    "version": 3
   },
   "file_extension": ".py",
   "mimetype": "text/x-python",
   "name": "python",
   "nbconvert_exporter": "python",
   "pygments_lexer": "ipython3",
   "version": "3.9.13"
  }
 },
 "nbformat": 4,
 "nbformat_minor": 5
}
