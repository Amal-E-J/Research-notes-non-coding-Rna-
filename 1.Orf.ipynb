{
 "cells": [
  {
   "cell_type": "code",
   "execution_count": 15,
   "id": "7cd3cad7",
   "metadata": {},
   "outputs": [
    {
     "name": "stdout",
     "output_type": "stream",
     "text": [
      "Collecting biopython\n",
      "  Downloading biopython-1.81-cp39-cp39-manylinux_2_17_x86_64.manylinux2014_x86_64.whl (3.1 MB)\n",
      "\u001b[2K     \u001b[38;2;114;156;31m━━━━━━━━━━━━━━━━━━━━━━━━━━━━━━━━━━━━━━━━\u001b[0m \u001b[32m3.1/3.1 MB\u001b[0m \u001b[31m7.6 MB/s\u001b[0m eta \u001b[36m0:00:00\u001b[0mm eta \u001b[36m0:00:01\u001b[0m[36m0:00:01\u001b[0m\n",
      "\u001b[?25hRequirement already satisfied: numpy in /home/pc/anaconda3/lib/python3.9/site-packages (from biopython) (1.21.5)\n",
      "Installing collected packages: biopython\n",
      "Successfully installed biopython-1.81\n"
     ]
    }
   ],
   "source": [
    "#!pip install pysam\n",
    "# !pip install biopython"
   ]
  },
  {
   "cell_type": "code",
   "execution_count": 16,
   "id": "7171cff5",
   "metadata": {},
   "outputs": [],
   "source": [
    "\n",
    "from Bio import SeqIO"
   ]
  },
  {
   "cell_type": "code",
   "execution_count": 13,
   "id": "56018614",
   "metadata": {},
   "outputs": [
    {
     "data": {
      "text/plain": [
       "'>sequence_1\\nATGCTGCTGCTCGTCGTC\\n>sequence_2\\nTTTATATATAAGTGTAGTAGA\\n>sequence_3\\nGGGCGCGCGAGATAATATATTAT'"
      ]
     },
     "execution_count": 13,
     "metadata": {},
     "output_type": "execute_result"
    }
   ],
   "source": [
    "fasta.read()"
   ]
  },
  {
   "cell_type": "code",
   "execution_count": 27,
   "id": "d0b0560a",
   "metadata": {},
   "outputs": [
    {
     "name": "stdout",
     "output_type": "stream",
     "text": [
      "3828\n"
     ]
    }
   ],
   "source": [
    "count = 0\n",
    "for seq_record in SeqIO.parse(\"lncRNA.fa\", \"fasta\"):\n",
    "    count = count + 1\n",
    "print(count)"
   ]
  },
  {
   "cell_type": "code",
   "execution_count": 58,
   "id": "9ccc3746",
   "metadata": {},
   "outputs": [],
   "source": [
    "\n",
    "sequences = [(str([rec.id]) , str(rec.seq)) for rec in SeqIO.parse(\"test.fasta\", \"fasta\")]"
   ]
  },
  {
   "cell_type": "code",
   "execution_count": 59,
   "id": "cb28ab26",
   "metadata": {},
   "outputs": [
    {
     "data": {
      "text/plain": [
       "[(\"['snce_1']\", 'ATGCTGCTGCTCGTCGTC'),\n",
       " (\"['sequence_2']\", 'TTTATATATAAGTGTAGTAGA'),\n",
       " (\"['sequence_3']\", 'GGGCGCGCGAGATAATATATTAT'),\n",
       " (\"['3']\",\n",
       "  'CGCTACGTCTTACGCTGGAGCTCTCATGGATCGGTTCGGTAGGGCTCGATCACATCGCTAGCCAT')]"
      ]
     },
     "execution_count": 59,
     "metadata": {},
     "output_type": "execute_result"
    }
   ],
   "source": [
    "sequences"
   ]
  },
  {
   "cell_type": "code",
   "execution_count": 47,
   "id": "53654e98",
   "metadata": {},
   "outputs": [],
   "source": [
    "sequences = []\n",
    "descr = None\n",
    "# here is the path of multifalsta file\n",
    "with open(\"test.fasta\") as file:\n",
    "    line = file.readline()[:-1]  # always trim newline\n",
    "    while line:\n",
    "        if line[0] == '>':\n",
    "            if descr:  # any sequence found yet?\n",
    "                sequences.append((descr, seq))\n",
    "            descr = str(line[1:].split('>'))\n",
    "            seq = ''  # start a new sequence\n",
    "        else:\n",
    "            seq += line\n",
    "        line = file.readline()[:-1]\n",
    "    sequences.append((descr, seq))"
   ]
  },
  {
   "cell_type": "code",
   "execution_count": 48,
   "id": "21e66c24",
   "metadata": {},
   "outputs": [
    {
     "data": {
      "text/plain": [
       "[(\"['snce_1']\", 'ATGCTGCTGCTCGTCGTC'),\n",
       " (\"['sequence_2']\", 'TTTATATATAAGTGTAGTAGA'),\n",
       " (\"['sequence_3']\", 'GGGCGCGCGAGATAATATATTAT'),\n",
       " (\"['3']\",\n",
       "  'CGCTACGTCTTACGCTGGAGCTCTCATGGATCGGTTCGGTAGGGCTCGATCACATCGCTAGCCAT')]"
      ]
     },
     "execution_count": 48,
     "metadata": {},
     "output_type": "execute_result"
    }
   ],
   "source": [
    "sequences"
   ]
  },
  {
   "cell_type": "code",
   "execution_count": 51,
   "id": "cf8405b2",
   "metadata": {},
   "outputs": [
    {
     "ename": "IndexError",
     "evalue": "string index out of range",
     "output_type": "error",
     "traceback": [
      "\u001b[0;31m---------------------------------------------------------------------------\u001b[0m",
      "\u001b[0;31mIndexError\u001b[0m                                Traceback (most recent call last)",
      "\u001b[0;32m/tmp/ipykernel_38651/3434068194.py\u001b[0m in \u001b[0;36m<module>\u001b[0;34m\u001b[0m\n\u001b[1;32m      2\u001b[0m \u001b[0;32mfor\u001b[0m \u001b[0mindex\u001b[0m\u001b[0;34m,\u001b[0m \u001b[0mvalue\u001b[0m \u001b[0;32min\u001b[0m \u001b[0menumerate\u001b[0m\u001b[0;34m(\u001b[0m\u001b[0msequences\u001b[0m\u001b[0;34m)\u001b[0m\u001b[0;34m:\u001b[0m  \u001b[0;31m# looping over the fragments extracted\u001b[0m\u001b[0;34m\u001b[0m\u001b[0;34m\u001b[0m\u001b[0m\n\u001b[1;32m      3\u001b[0m     \u001b[0mframes\u001b[0m \u001b[0;34m=\u001b[0m \u001b[0;34m[\u001b[0m\u001b[0;34m]\u001b[0m \u001b[0;31m# storing the six frame translation that it zould be extacted from the fragments\u001b[0m\u001b[0;34m\u001b[0m\u001b[0;34m\u001b[0m\u001b[0m\n\u001b[0;32m----> 4\u001b[0;31m     \u001b[0mdna\u001b[0m \u001b[0;34m=\u001b[0m \u001b[0mvalue\u001b[0m\u001b[0;34m[\u001b[0m\u001b[0;36m1\u001b[0m\u001b[0;34m]\u001b[0m  \u001b[0;31m# extract the fragment\u001b[0m\u001b[0;34m\u001b[0m\u001b[0;34m\u001b[0m\u001b[0m\n\u001b[0m\u001b[1;32m      5\u001b[0m     \u001b[0mdescription\u001b[0m \u001b[0;34m=\u001b[0m \u001b[0mvalue\u001b[0m\u001b[0;34m[\u001b[0m\u001b[0;36m0\u001b[0m\u001b[0;34m]\u001b[0m \u001b[0;31m#extact the desciption even were not use it, just for learning purpose\u001b[0m\u001b[0;34m\u001b[0m\u001b[0;34m\u001b[0m\u001b[0m\n\u001b[1;32m      6\u001b[0m     \u001b[0mreverseCdna\u001b[0m \u001b[0;34m=\u001b[0m \u001b[0;34m[\u001b[0m\u001b[0;34m]\u001b[0m \u001b[0;31m# storing the reverse compliments\u001b[0m\u001b[0;34m\u001b[0m\u001b[0;34m\u001b[0m\u001b[0m\n",
      "\u001b[0;31mIndexError\u001b[0m: string index out of range"
     ]
    }
   ],
   "source": [
    "listOfOrf = list()\n",
    "for index, value in enumerate(sequences):  # looping over the fragments extracted\n",
    "    frames = [] # storing the six frame translation that it zould be extacted from the fragments \n",
    "    dna = value[1]  # extract the fragment \n",
    "    description = value[0] #extact the desciption even were not use it, just for learning purpose\n",
    "    reverseCdna = [] # storing the reverse compliments\n",
    "    # create the positive frames\n",
    "    # split the frames into codons for better performance\n",
    "    frames.append([dna[i:i + 3] for i in range(0, len(dna), 3)])\n",
    "    frames.append([dna[i:i + 3] for i in range(1, len(dna), 3)])\n",
    "    frames.append([dna[i:i + 3] for i in range(2, len(dna), 3)])\n",
    "    # reverse compliment of the fragment\n",
    "    reverse = {\"A\": \"T\", \"C\": \"G\", \"T\": \"A\", \"G\": \"C\"}\n",
    "    for i in range(len(dna)):\n",
    "        reverseCdna.append(reverse[dna[-i - 1]]) if dna[-i - 1] in reverse.keys() else reverseCdna.append(dna[-i - 1])  # if any contamination found we keep it for further more check\n",
    "    reverseCdna = ''.join(reverseCdna) # joining \n",
    "    # create the negative frames\n",
    "    frames.append([reverseCdna[i:i + 3] for i in range(0, len(reverseCdna), 3)])\n",
    "    frames.append([reverseCdna[i:i + 3] for i in range(1, len(reverseCdna), 3)])\n",
    "    frames.append([reverseCdna[i:i + 3] for i in range(2, len(reverseCdna), 3)])"
   ]
  },
  {
   "cell_type": "code",
   "execution_count": 39,
   "id": "2f475329",
   "metadata": {},
   "outputs": [],
   "source": [
    "for i in range(0,len(frames),1): #looping all the frames\n",
    "    start=0\n",
    "    while start <len(frames[i]): #looping each frame for start and stop codons \n",
    "        if frames[i][start]==\"ATG\" or frames[i][start]==\"TTG\" or frames[i][start]==\"CTG\" or frames[i][start]==\"GTG\":\n",
    "            for stop in range(start+1,len(frames[i]),1):\n",
    "                         if frames[i][stop]==\"TAA\" or  frames[i][stop]==\"TAG\" or  frames[i][stop]==\"TGA\" :\n",
    "                                listOfOrf.append(frames[i][start:stop]) # retrieve the orf \n",
    "                                start=stop+1 # avoiding multiple start codons\n",
    "                                break\n",
    "        start+=1"
   ]
  },
  {
   "cell_type": "code",
   "execution_count": 40,
   "id": "5d8c5483",
   "metadata": {},
   "outputs": [
    {
     "data": {
      "text/plain": [
       "[['ATG', 'GAT', 'CGG', 'TTC', 'GGT', 'AGG', 'GCT', 'CGA', 'TCA', 'CAT', 'CGC'],\n",
       " ['ATG',\n",
       "  'GCT',\n",
       "  'AGC',\n",
       "  'GAT',\n",
       "  'GTG',\n",
       "  'ATC',\n",
       "  'GAG',\n",
       "  'CCC',\n",
       "  'TAC',\n",
       "  'CGA',\n",
       "  'ACC',\n",
       "  'GAT',\n",
       "  'CCA'],\n",
       " ['ATG'],\n",
       " ['ATG', 'AGA', 'GCT', 'CCA', 'GCG']]"
      ]
     },
     "execution_count": 40,
     "metadata": {},
     "output_type": "execute_result"
    }
   ],
   "source": [
    "listOfOrf"
   ]
  },
  {
   "cell_type": "code",
   "execution_count": null,
   "id": "00c74634",
   "metadata": {},
   "outputs": [],
   "source": []
  },
  {
   "cell_type": "code",
   "execution_count": null,
   "id": "188d29b8",
   "metadata": {},
   "outputs": [],
   "source": []
  },
  {
   "cell_type": "code",
   "execution_count": null,
   "id": "1590ff23",
   "metadata": {},
   "outputs": [],
   "source": []
  }
 ],
 "metadata": {
  "kernelspec": {
   "display_name": "Python 3 (ipykernel)",
   "language": "python",
   "name": "python3"
  },
  "language_info": {
   "codemirror_mode": {
    "name": "ipython",
    "version": 3
   },
   "file_extension": ".py",
   "mimetype": "text/x-python",
   "name": "python",
   "nbconvert_exporter": "python",
   "pygments_lexer": "ipython3",
   "version": "3.9.13"
  }
 },
 "nbformat": 4,
 "nbformat_minor": 5
}
