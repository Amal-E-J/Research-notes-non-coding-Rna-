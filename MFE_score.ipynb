{
 "cells": [
  {
   "cell_type": "markdown",
   "id": "df17a5ff",
   "metadata": {},
   "source": [
    "# To find mfe score"
   ]
  },
  {
   "cell_type": "code",
   "execution_count": 1,
   "id": "e69073b6",
   "metadata": {},
   "outputs": [
    {
     "name": "stdout",
     "output_type": "stream",
     "text": [
      "MFE: 152.0\n"
     ]
    }
   ],
   "source": [
    "from Bio.Seq import Seq\n",
    "from Bio.SeqUtils import MeltingTemp\n",
    "\n",
    "rna_seq = Seq(\"GTTAACTTGCCTTTGACCTCTTCTTTCTGTTCATGTGTGTTAGTAATTTGCTGTC\")\n",
    "\n",
    "mfe = MeltingTemp.Tm_Wallace(rna_seq.transcribe().reverse_complement())\n",
    "print(f\"MFE: {mfe}\")\n"
   ]
  },
  {
   "cell_type": "code",
   "execution_count": null,
   "id": "365e0f72",
   "metadata": {},
   "outputs": [],
   "source": []
  },
  {
   "cell_type": "code",
   "execution_count": null,
   "id": "99524645",
   "metadata": {},
   "outputs": [],
   "source": []
  }
 ],
 "metadata": {
  "kernelspec": {
   "display_name": "Python 3 (ipykernel)",
   "language": "python",
   "name": "python3"
  },
  "language_info": {
   "codemirror_mode": {
    "name": "ipython",
    "version": 3
   },
   "file_extension": ".py",
   "mimetype": "text/x-python",
   "name": "python",
   "nbconvert_exporter": "python",
   "pygments_lexer": "ipython3",
   "version": "3.9.13"
  }
 },
 "nbformat": 4,
 "nbformat_minor": 5
}
